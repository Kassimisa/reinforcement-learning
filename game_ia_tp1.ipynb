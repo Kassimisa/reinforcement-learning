{
 "cells": [
  {
   "cell_type": "code",
   "execution_count": 1,
   "id": "10291985-177b-47ee-b5c2-f2c48d58fffe",
   "metadata": {},
   "outputs": [
    {
     "name": "stdout",
     "output_type": "stream",
     "text": [
      "Requirement already satisfied: gymnasium in c:\\users\\acer\\mon_env\\lib\\site-packages (1.1.0)\n",
      "Requirement already satisfied: pygame in c:\\users\\acer\\mon_env\\lib\\site-packages (2.6.1)\n",
      "Requirement already satisfied: numpy>=1.21.0 in c:\\users\\acer\\mon_env\\lib\\site-packages (from gymnasium) (2.0.2)\n",
      "Requirement already satisfied: cloudpickle>=1.2.0 in c:\\users\\acer\\mon_env\\lib\\site-packages (from gymnasium) (3.1.1)\n",
      "Requirement already satisfied: importlib-metadata>=4.8.0 in c:\\users\\acer\\mon_env\\lib\\site-packages (from gymnasium) (8.5.0)\n",
      "Requirement already satisfied: typing-extensions>=4.3.0 in c:\\users\\acer\\mon_env\\lib\\site-packages (from gymnasium) (4.12.2)\n",
      "Requirement already satisfied: farama-notifications>=0.0.1 in c:\\users\\acer\\mon_env\\lib\\site-packages (from gymnasium) (0.0.4)\n",
      "Requirement already satisfied: zipp>=3.20 in c:\\users\\acer\\mon_env\\lib\\site-packages (from importlib-metadata>=4.8.0->gymnasium) (3.21.0)\n",
      "Note: you may need to restart the kernel to use updated packages.\n"
     ]
    }
   ],
   "source": [
    "pip install gymnasium pygame"
   ]
  },
  {
   "cell_type": "code",
   "execution_count": 11,
   "id": "23c8b4d7-ae0a-460c-98a9-5e1a641ab94f",
   "metadata": {},
   "outputs": [
    {
     "data": {
      "text/plain": [
       "(array([ 0.02893836,  0.02321213,  0.04410407, -0.01006631], dtype=float32),\n",
       " {})"
      ]
     },
     "execution_count": 11,
     "metadata": {},
     "output_type": "execute_result"
    }
   ],
   "source": [
    "import gymnasium as gym\n",
    "env = gym.make(\"CartPole-v1\", render_mode=\"human\")\n",
    "env.reset()"
   ]
  },
  {
   "cell_type": "code",
   "execution_count": 12,
   "id": "2cc4b3aa-bfc7-4132-bcfa-e18176fa2d96",
   "metadata": {},
   "outputs": [
    {
     "name": "stdout",
     "output_type": "stream",
     "text": [
      "espace d'acction :Discrete(2)\n",
      "espace d'observations : Box([-4.8               -inf -0.41887903        -inf], [4.8               inf 0.41887903        inf], (4,), float32)\n"
     ]
    }
   ],
   "source": [
    "print(f\"espace d'acction :{env.action_space}\")\n",
    "print(f\"espace d'observations : {env.observation_space}\")"
   ]
  },
  {
   "cell_type": "code",
   "execution_count": 13,
   "id": "c0c6a1ca-c2b4-4aa2-a85d-0f15ce27942a",
   "metadata": {},
   "outputs": [
    {
     "name": "stdout",
     "output_type": "stream",
     "text": [
      "Action : 0, observation :[ 0.0294026  -0.17251366  0.04390274  0.2961993 ], reward :1.0\n",
      "Action : 1, observation :[0.02595233 0.02195581 0.04982673 0.01767942], reward :1.0\n",
      "Action : 0, observation :[ 0.02639144 -0.173844    0.05018032  0.3256576 ], reward :1.0\n",
      "Action : 1, observation :[0.02291456 0.02052891 0.05669347 0.04921208], reward :1.0\n",
      "Action : 0, observation :[ 0.02332514 -0.1753582   0.05767771  0.35922965], reward :1.0\n",
      "Action : 0, observation :[ 0.01981798 -0.37125063  0.0648623   0.6695275 ], reward :1.0\n",
      "Action : 1, observation :[ 0.01239297 -0.17708762  0.07825286  0.39795157], reward :1.0\n",
      "Action : 0, observation :[ 0.00885121 -0.37322748  0.08621189  0.7142439 ], reward :1.0\n",
      "Action : 1, observation :[ 0.00138666 -0.17939812  0.10049677  0.44989455], reward :1.0\n",
      "Action : 0, observation :[-0.0022013  -0.3757872   0.10949466  0.7724882 ], reward :1.0\n",
      "Action : 1, observation :[-0.00971704 -0.18232845  0.12494442  0.516165  ], reward :1.0\n",
      "Action : 0, observation :[-0.01336361 -0.37896785  0.13526772  0.845463  ], reward :1.0\n",
      "Action : 1, observation :[-0.02094297 -0.1859251   0.15217698  0.59819144], reward :1.0\n",
      "Action : 1, observation :[-0.02466147  0.00677685  0.1641408   0.35704654], reward :1.0\n",
      "Action : 1, observation :[-0.02452593  0.19923116  0.17128174  0.12028621], reward :1.0\n",
      "Action : 0, observation :[-0.02054131  0.00212194  0.17368746  0.4617346 ], reward :1.0\n",
      "Action : 0, observation :[-0.02049887 -0.1949745   0.18292215  0.8037388 ], reward :1.0\n",
      "Action : 0, observation :[-0.02439836 -0.39206985  0.19899693  1.1479291 ], reward :1.0\n",
      "Action : 0, observation :[-0.03223976 -0.58915323  0.22195551  1.49584   ], reward :1.0\n",
      "Action : 0, observation :[ 0.01154311 -0.18288209  0.04385487  0.3420019 ], reward :1.0\n",
      "Action : 0, observation :[ 0.00788547 -0.37859964  0.05069491  0.6481852 ], reward :1.0\n",
      "Action : 1, observation :[ 3.1347357e-04 -1.8421924e-01  6.3658610e-02  3.7188706e-01], reward :1.0\n",
      "Action : 0, observation :[-0.00337091 -0.38018507  0.07109635  0.6839434 ], reward :1.0\n",
      "Action : 1, observation :[-0.01097461 -0.18611856  0.08477522  0.41446376], reward :1.0\n",
      "Action : 0, observation :[-0.01469698 -0.38233337  0.09306449  0.73262304], reward :1.0\n",
      "Action : 0, observation :[-0.02234365 -0.5786096   0.10771696  1.0530849 ], reward :1.0\n",
      "Action : 0, observation :[-0.03391584 -0.77498204  0.12877865  1.3775439 ], reward :1.0\n",
      "Action : 1, observation :[-0.04941548 -0.58168215  0.15632953  1.1277514 ], reward :1.0\n",
      "Action : 1, observation :[-0.06104913 -0.38891456  0.17888457  0.88789994], reward :1.0\n",
      "Action : 0, observation :[-0.06882742 -0.5859543   0.19664256  1.2310553 ], reward :1.0\n",
      "Action : 1, observation :[-0.08054651 -0.3938281   0.22126366  1.0058609 ], reward :1.0\n",
      "Action : 0, observation :[ 0.03855047 -0.18262124  0.04565658  0.2640979 ], reward :1.0\n",
      "Action : 0, observation :[ 0.03489804 -0.37836412  0.05093854  0.5708246 ], reward :1.0\n",
      "Action : 0, observation :[ 0.02733076 -0.574162    0.06235503  0.87911   ], reward :1.0\n",
      "Action : 0, observation :[ 0.01584752 -0.7700733   0.07993723  1.1907263 ], reward :1.0\n",
      "Action : 1, observation :[ 4.46052261e-04 -5.76072931e-01  1.03751756e-01  9.24131453e-01], reward :1.0\n",
      "Action : 1, observation :[-0.01107541 -0.38249388  0.12223438  0.6657727 ], reward :1.0\n",
      "Action : 1, observation :[-0.01872528 -0.18926503  0.13554983  0.41393948], reward :1.0\n",
      "Action : 0, observation :[-0.02251058 -0.38602173  0.14382863  0.746097  ], reward :1.0\n",
      "Action : 1, observation :[-0.03023102 -0.19314626  0.15875056  0.5019111 ], reward :1.0\n",
      "Action : 1, observation :[-0.03409394 -0.00057625  0.16878879  0.26316518], reward :1.0\n",
      "Action : 0, observation :[-0.03410547 -0.19765487  0.17405209  0.60397065], reward :1.0\n",
      "Action : 0, observation :[-0.03805857 -0.39472878  0.1861315   0.94602853], reward :1.0\n",
      "Action : 0, observation :[-0.04595314 -0.5918035   0.20505208  1.2909418 ], reward :1.0\n",
      "Action : 1, observation :[-0.05778921 -0.399792    0.23087092  1.0688221 ], reward :1.0\n",
      "Action : 1, observation :[-0.0230423   0.19216672 -0.04631955 -0.35158753], reward :1.0\n",
      "Action : 0, observation :[-0.01919896 -0.00226697 -0.0533513  -0.07386289], reward :1.0\n",
      "Action : 0, observation :[-0.0192443  -0.19658509 -0.05482856  0.20152172], reward :1.0\n",
      "Action : 0, observation :[-0.023176   -0.39088178 -0.05079812  0.47641727], reward :1.0\n",
      "Action : 1, observation :[-0.03099364 -0.19508074 -0.04126978  0.16816634], reward :1.0\n",
      "Action : 1, observation :[-0.03489525  0.0006069  -0.03790645 -0.13724504], reward :1.0\n",
      "Action : 0, observation :[-0.03488312 -0.19395219 -0.04065135  0.14324212], reward :1.0\n",
      "Action : 0, observation :[-0.03876216 -0.3884691  -0.03778651  0.4228282 ], reward :1.0\n",
      "Action : 1, observation :[-0.04653154 -0.19283275 -0.02932995  0.11847659], reward :1.0\n",
      "Action : 0, observation :[-0.05038819 -0.38752246 -0.02696041  0.4017638 ], reward :1.0\n",
      "Action : 0, observation :[-0.05813864 -0.58225185 -0.01892514  0.6858263 ], reward :1.0\n",
      "Action : 1, observation :[-0.06978368 -0.38687235 -0.00520861  0.3872459 ], reward :1.0\n",
      "Action : 0, observation :[-0.07752113 -0.58191997  0.00253631  0.678282  ], reward :1.0\n",
      "Action : 0, observation :[-0.08915953 -0.7770771   0.01610195  0.9717624 ], reward :1.0\n",
      "Action : 0, observation :[-0.10470107 -0.9724114   0.03553719  1.2694596 ], reward :1.0\n",
      "Action : 1, observation :[-0.12414929 -0.77776074  0.06092639  0.9881138 ], reward :1.0\n",
      "Action : 1, observation :[-0.13970451 -0.5835051   0.08068866  0.7151723 ], reward :1.0\n",
      "Action : 0, observation :[-0.15137461 -0.7796458   0.09499211  1.0321227 ], reward :1.0\n",
      "Action : 0, observation :[-0.16696753 -0.97589415  0.11563457  1.3530538 ], reward :1.0\n",
      "Action : 0, observation :[-0.18648541 -1.1722623   0.14269564  1.67956   ], reward :1.0\n",
      "Action : 1, observation :[-0.20993066 -0.97905374  0.17628685  1.4345028 ], reward :1.0\n",
      "Action : 1, observation :[-0.22951174 -0.7864892   0.2049769   1.201693  ], reward :1.0\n",
      "Action : 0, observation :[-0.24524152 -0.98358494  0.22901076  1.5509896 ], reward :1.0\n",
      "Action : 0, observation :[ 0.00329524 -0.16439477 -0.01644095  0.24779521], reward :1.0\n",
      "Action : 0, observation :[ 7.3431484e-06 -3.5927811e-01 -1.1485044e-02  5.3524727e-01], reward :1.0\n",
      "Action : 1, observation :[-0.00717822 -0.16399655 -0.0007801   0.23896775], reward :1.0\n",
      "Action : 1, observation :[-0.01045815  0.03113654  0.00399926 -0.05396114], reward :1.0\n",
      "Action : 1, observation :[-0.00983542  0.22620091  0.00292003 -0.3453796 ], reward :1.0\n",
      "Action : 0, observation :[-0.0053114   0.03103755 -0.00398756 -0.0517773 ], reward :1.0\n",
      "Action : 0, observation :[-0.00469065 -0.164027   -0.0050231   0.23964486], reward :1.0\n",
      "Action : 1, observation :[-0.00797119  0.03116635 -0.00023021 -0.05461825], reward :1.0\n",
      "Action : 0, observation :[-0.00734786 -0.1639523  -0.00132257  0.23799203], reward :1.0\n",
      "Action : 1, observation :[-0.01062691  0.03118852  0.00343727 -0.05510778], reward :1.0\n",
      "Action : 0, observation :[-0.01000314 -0.16398256  0.00233511  0.23865765], reward :1.0\n",
      "Action : 1, observation :[-0.01328279  0.03110596  0.00710827 -0.0532878 ], reward :1.0\n",
      "Action : 0, observation :[-0.01266067 -0.16411719  0.00604251  0.24162933], reward :1.0\n",
      "Action : 1, observation :[-0.01594301  0.03091793  0.0108751  -0.04914152], reward :1.0\n",
      "Action : 1, observation :[-0.01532466  0.22588228  0.00989227 -0.3383735 ], reward :1.0\n",
      "Action : 0, observation :[-0.01080701  0.03062096  0.0031248  -0.0425876 ], reward :1.0\n",
      "Action : 1, observation :[-0.01019459  0.22569796  0.00227304 -0.334283  ], reward :1.0\n",
      "Action : 1, observation :[-0.00568063  0.42078748 -0.00441262 -0.62624824], reward :1.0\n",
      "Action : 0, observation :[ 0.00273512  0.22572741 -0.01693758 -0.33495829], reward :1.0\n",
      "Action : 1, observation :[ 0.00724967  0.42108628 -0.02363675 -0.632934  ], reward :1.0\n",
      "Action : 1, observation :[ 0.01567139  0.6165299  -0.03629543 -0.932966  ], reward :1.0\n",
      "Action : 0, observation :[ 0.02800199  0.42191592 -0.05495474 -0.65190583], reward :1.0\n",
      "Action : 1, observation :[ 0.03644031  0.6177584  -0.06799286 -0.9613747 ], reward :1.0\n",
      "Action : 1, observation :[ 0.04879548  0.813725   -0.08722036 -1.2746199 ], reward :1.0\n",
      "Action : 0, observation :[ 0.06506997  0.6198172  -0.11271276 -1.0104741 ], reward :1.0\n",
      "Action : 1, observation :[ 0.07746632  0.8162481  -0.13292223 -1.3363183 ], reward :1.0\n",
      "Action : 1, observation :[ 0.09379128  1.0127705  -0.1596486  -1.6674657 ], reward :1.0\n",
      "Action : 1, observation :[ 0.11404669  1.2093486  -0.19299792 -2.0053205 ], reward :1.0\n",
      "Action : 1, observation :[ 0.13823366  1.4058887  -0.23310432 -2.351047  ], reward :1.0\n",
      "Action : 1, observation :[ 0.02639262  0.19583319 -0.00117288 -0.32841805], reward :1.0\n",
      "Action : 1, observation :[ 0.03030928  0.39097184 -0.00774124 -0.62147063], reward :1.0\n",
      "Action : 0, observation :[ 0.03812872  0.19595882 -0.02017065 -0.3312358 ], reward :1.0\n"
     ]
    }
   ],
   "source": [
    "for _ in range(100):\n",
    "    action = env.action_space.sample()\n",
    "    observation, reward, done, truncated, info = env.step(action)\n",
    "    print(f\"Action : {action}, observation :{observation}, reward :{reward}\")\n",
    "    if done :\n",
    "        env.reset()\n",
    "env.close()\n",
    "        "
   ]
  },
  {
   "cell_type": "code",
   "execution_count": 14,
   "id": "155fbe5a-1b33-4fb1-907e-88e2c9ec4d28",
   "metadata": {},
   "outputs": [
    {
     "name": "stdout",
     "output_type": "stream",
     "text": [
      "Action: 0, Observation: [ 0.03925584 -0.20561975 -0.02907243  0.28620067], Reward: 1.0, Done: False\n",
      "Action: 0, Observation: [ 0.03514344 -0.40031528 -0.02334841  0.5695745 ], Reward: 1.0, Done: False\n",
      "Action: 0, Observation: [ 0.02713713 -0.59510213 -0.01195692  0.8548113 ], Reward: 1.0, Done: False\n",
      "Action: 0, Observation: [ 0.01523509 -0.7900591   0.0051393   1.1437106 ], Reward: 1.0, Done: False\n",
      "Action: 0, Observation: [-5.6609162e-04 -9.8524779e-01  2.8013516e-02  1.4380008e+00], Reward: 1.0, Done: False\n",
      "Action: 1, Observation: [-0.02027105 -0.7904821   0.05677353  1.1542016 ], Reward: 1.0, Done: False\n",
      "Action: 0, Observation: [-0.03608069 -0.98629665  0.07985757  1.4641327 ], Reward: 1.0, Done: False\n",
      "Action: 1, Observation: [-0.05580662 -0.7922386   0.10914022  1.1974266 ], Reward: 1.0, Done: False\n",
      "Action: 1, Observation: [-0.07165139 -0.59868515  0.13308875  0.94084734], Reward: 1.0, Done: False\n",
      "Action: 0, Observation: [-0.0836251 -0.7953254  0.1519057  1.2722119], Reward: 1.0, Done: False\n"
     ]
    }
   ],
   "source": [
    "import gymnasium as gym\n",
    "\n",
    "env = gym.make(\"CartPole-v1\", render_mode=\"human\")\n",
    "env.reset()\n",
    "\n",
    "for _ in range(10):  \n",
    "    action = env.action_space.sample()  \n",
    "    observation, reward, done, truncated, info = env.step(action)\n",
    "    \n",
    "    print(f\"Action: {action}, Observation: {observation}, Reward: {reward}, Done: {done}\")\n",
    "    \n",
    "    if done:\n",
    "        env.reset()  \n",
    "\n",
    "env.close()"
   ]
  },
  {
   "cell_type": "code",
   "execution_count": 15,
   "id": "e33f49e3-be1c-4be6-8539-8fb0e2aef42c",
   "metadata": {},
   "outputs": [
    {
     "name": "stdin",
     "output_type": "stream",
     "text": [
      "Entrez une action (0 ou 1):  1\n"
     ]
    },
    {
     "name": "stdout",
     "output_type": "stream",
     "text": [
      "Action: 1, Observation: [-0.04527156  0.15321428 -0.00871709 -0.30440214], Reward: 1.0, Done: False\n"
     ]
    },
    {
     "name": "stdin",
     "output_type": "stream",
     "text": [
      "Entrez une action (0 ou 1):  1\n"
     ]
    },
    {
     "name": "stdout",
     "output_type": "stream",
     "text": [
      "Action: 1, Observation: [-0.04220727  0.34845936 -0.01480513 -0.59982145], Reward: 1.0, Done: False\n"
     ]
    },
    {
     "name": "stdin",
     "output_type": "stream",
     "text": [
      "Entrez une action (0 ou 1):  1\n"
     ]
    },
    {
     "name": "stdout",
     "output_type": "stream",
     "text": [
      "Action: 1, Observation: [-0.03523808  0.5437853  -0.02680156 -0.8971307 ], Reward: 1.0, Done: False\n"
     ]
    },
    {
     "name": "stdin",
     "output_type": "stream",
     "text": [
      "Entrez une action (0 ou 1):  0\n"
     ]
    },
    {
     "name": "stdout",
     "output_type": "stream",
     "text": [
      "Action: 0, Observation: [-0.02436238  0.3490367  -0.04474418 -0.6129915 ], Reward: 1.0, Done: False\n"
     ]
    },
    {
     "name": "stdin",
     "output_type": "stream",
     "text": [
      "Entrez une action (0 ou 1):  0\n"
     ]
    },
    {
     "name": "stdout",
     "output_type": "stream",
     "text": [
      "Action: 0, Observation: [-0.01738165  0.15456767 -0.05700401 -0.33473033], Reward: 1.0, Done: False\n"
     ]
    },
    {
     "name": "stdin",
     "output_type": "stream",
     "text": [
      "Entrez une action (0 ou 1):  0\n"
     ]
    },
    {
     "name": "stdout",
     "output_type": "stream",
     "text": [
      "Action: 0, Observation: [-0.01429029 -0.03969862 -0.06369861 -0.06055431], Reward: 1.0, Done: False\n"
     ]
    },
    {
     "name": "stdin",
     "output_type": "stream",
     "text": [
      "Entrez une action (0 ou 1):  0\n"
     ]
    },
    {
     "name": "stdout",
     "output_type": "stream",
     "text": [
      "Action: 0, Observation: [-0.01508426 -0.23385218 -0.0649097   0.21137065], Reward: 1.0, Done: False\n"
     ]
    },
    {
     "name": "stdin",
     "output_type": "stream",
     "text": [
      "Entrez une action (0 ou 1):  1\n"
     ]
    },
    {
     "name": "stdout",
     "output_type": "stream",
     "text": [
      "Action: 1, Observation: [-0.01976131 -0.03786509 -0.06068229 -0.10106092], Reward: 1.0, Done: False\n"
     ]
    },
    {
     "name": "stdin",
     "output_type": "stream",
     "text": [
      "Entrez une action (0 ou 1):  1\n"
     ]
    },
    {
     "name": "stdout",
     "output_type": "stream",
     "text": [
      "Action: 1, Observation: [-0.02051861  0.15807167 -0.06270351 -0.41225475], Reward: 1.0, Done: False\n"
     ]
    },
    {
     "name": "stdin",
     "output_type": "stream",
     "text": [
      "Entrez une action (0 ou 1):  1\n"
     ]
    },
    {
     "name": "stdout",
     "output_type": "stream",
     "text": [
      "Action: 1, Observation: [-0.01735718  0.3540238  -0.0709486  -0.7240281 ], Reward: 1.0, Done: False\n"
     ]
    },
    {
     "name": "stdin",
     "output_type": "stream",
     "text": [
      "Entrez une action (0 ou 1):  0\n"
     ]
    },
    {
     "name": "stdout",
     "output_type": "stream",
     "text": [
      "Action: 0, Observation: [-0.0102767   0.15995108 -0.08542916 -0.45449275], Reward: 1.0, Done: False\n"
     ]
    },
    {
     "name": "stdin",
     "output_type": "stream",
     "text": [
      "Entrez une action (0 ou 1):  1\n"
     ]
    },
    {
     "name": "stdout",
     "output_type": "stream",
     "text": [
      "Action: 1, Observation: [-0.00707768  0.35617054 -0.09451902 -0.7728342 ], Reward: 1.0, Done: False\n"
     ]
    },
    {
     "name": "stdin",
     "output_type": "stream",
     "text": [
      "Entrez une action (0 ou 1):  0\n"
     ]
    },
    {
     "name": "stdout",
     "output_type": "stream",
     "text": [
      "Action: 0, Observation: [ 4.5732275e-05  1.6246732e-01 -1.0997570e-01 -5.1132351e-01], Reward: 1.0, Done: False\n"
     ]
    },
    {
     "name": "stdin",
     "output_type": "stream",
     "text": [
      "Entrez une action (0 ou 1):  0\n"
     ]
    },
    {
     "name": "stdout",
     "output_type": "stream",
     "text": [
      "Action: 0, Observation: [ 0.00329508 -0.03094763 -0.12020218 -0.25522152], Reward: 1.0, Done: False\n"
     ]
    },
    {
     "name": "stdin",
     "output_type": "stream",
     "text": [
      "Entrez une action (0 ou 1):  0\n"
     ]
    },
    {
     "name": "stdout",
     "output_type": "stream",
     "text": [
      "Action: 0, Observation: [ 0.00267613 -0.22416659 -0.1253066  -0.00273876], Reward: 1.0, Done: False\n"
     ]
    },
    {
     "name": "stdin",
     "output_type": "stream",
     "text": [
      "Entrez une action (0 ou 1):  0\n"
     ]
    },
    {
     "name": "stdout",
     "output_type": "stream",
     "text": [
      "Action: 0, Observation: [-0.00180721 -0.4172895  -0.12536138  0.24793048], Reward: 1.0, Done: False\n"
     ]
    },
    {
     "name": "stdin",
     "output_type": "stream",
     "text": [
      "Entrez une action (0 ou 1):  0\n"
     ]
    },
    {
     "name": "stdout",
     "output_type": "stream",
     "text": [
      "Action: 0, Observation: [-0.010153   -0.6104189  -0.12040277  0.4985915 ], Reward: 1.0, Done: False\n"
     ]
    },
    {
     "name": "stdin",
     "output_type": "stream",
     "text": [
      "Entrez une action (0 ou 1):  0\n"
     ]
    },
    {
     "name": "stdout",
     "output_type": "stream",
     "text": [
      "Action: 0, Observation: [-0.02236137 -0.8036559  -0.11043094  0.7510356 ], Reward: 1.0, Done: False\n"
     ]
    },
    {
     "name": "stdin",
     "output_type": "stream",
     "text": [
      "Entrez une action (0 ou 1):  1\n"
     ]
    },
    {
     "name": "stdout",
     "output_type": "stream",
     "text": [
      "Action: 1, Observation: [-0.03843449 -0.6071983  -0.09541023  0.42574343], Reward: 1.0, Done: False\n"
     ]
    },
    {
     "name": "stdin",
     "output_type": "stream",
     "text": [
      "Entrez une action (0 ou 1):  1\n"
     ]
    },
    {
     "name": "stdout",
     "output_type": "stream",
     "text": [
      "Action: 1, Observation: [-0.05057846 -0.41086355 -0.08689536  0.10457265], Reward: 1.0, Done: False\n"
     ]
    },
    {
     "name": "stdin",
     "output_type": "stream",
     "text": [
      "Entrez une action (0 ou 1):  1\n"
     ]
    },
    {
     "name": "stdout",
     "output_type": "stream",
     "text": [
      "Action: 1, Observation: [-0.05879573 -0.21461074 -0.08480391 -0.21421097], Reward: 1.0, Done: False\n"
     ]
    },
    {
     "name": "stdin",
     "output_type": "stream",
     "text": [
      "Entrez une action (0 ou 1):  1\n"
     ]
    },
    {
     "name": "stdout",
     "output_type": "stream",
     "text": [
      "Action: 1, Observation: [-0.06308795 -0.0183852  -0.08908813 -0.532394  ], Reward: 1.0, Done: False\n"
     ]
    },
    {
     "name": "stdin",
     "output_type": "stream",
     "text": [
      "Entrez une action (0 ou 1):  1\n"
     ]
    },
    {
     "name": "stdout",
     "output_type": "stream",
     "text": [
      "Action: 1, Observation: [-0.06345565  0.17786938 -0.09973601 -0.8517657 ], Reward: 1.0, Done: False\n"
     ]
    },
    {
     "name": "stdin",
     "output_type": "stream",
     "text": [
      "Entrez une action (0 ou 1):  1\n"
     ]
    },
    {
     "name": "stdout",
     "output_type": "stream",
     "text": [
      "Action: 1, Observation: [-0.05989826  0.37419933 -0.11677132 -1.174071  ], Reward: 1.0, Done: False\n"
     ]
    },
    {
     "name": "stdin",
     "output_type": "stream",
     "text": [
      "Entrez une action (0 ou 1):  1\n"
     ]
    },
    {
     "name": "stdout",
     "output_type": "stream",
     "text": [
      "Action: 1, Observation: [-0.05241427  0.570629   -0.14025274 -1.5009617 ], Reward: 1.0, Done: False\n"
     ]
    },
    {
     "name": "stdin",
     "output_type": "stream",
     "text": [
      "Entrez une action (0 ou 1):  0\n"
     ]
    },
    {
     "name": "stdout",
     "output_type": "stream",
     "text": [
      "Action: 0, Observation: [-0.04100169  0.37746117 -0.17027198 -1.2551544 ], Reward: 1.0, Done: False\n"
     ]
    },
    {
     "name": "stdin",
     "output_type": "stream",
     "text": [
      "Entrez une action (0 ou 1):  0\n"
     ]
    },
    {
     "name": "stdout",
     "output_type": "stream",
     "text": [
      "Action: 0, Observation: [-0.03345247  0.1848784  -0.19537506 -1.0202761 ], Reward: 1.0, Done: False\n"
     ]
    },
    {
     "name": "stdin",
     "output_type": "stream",
     "text": [
      "Entrez une action (0 ou 1):  0\n"
     ]
    },
    {
     "name": "stdout",
     "output_type": "stream",
     "text": [
      "Action: 0, Observation: [-0.0297549  -0.00717987 -0.21578059 -0.7947451 ], Reward: 1.0, Done: True\n",
      "L'épisode est terminé. Durée totale de l'épisode: 28\n"
     ]
    }
   ],
   "source": [
    "import gymnasium as gym\n",
    "\n",
    "env = gym.make(\"CartPole-v1\", render_mode=\"human\")\n",
    "env.reset()\n",
    "\n",
    "episode_duration = 0\n",
    "while True:\n",
    "    action = int(input(\"Entrez une action (0 ou 1): \"))  \n",
    "    observation, reward, done, truncated, info = env.step(action)\n",
    "    \n",
    "    print(f\"Action: {action}, Observation: {observation}, Reward: {reward}, Done: {done}\")\n",
    "    \n",
    "    episode_duration += 1\n",
    "    \n",
    "    if done:\n",
    "        print(f\"L'épisode est terminé. Durée totale de l'épisode: {episode_duration}\")\n",
    "        break \n",
    "env.close()"
   ]
  },
  {
   "cell_type": "code",
   "execution_count": 17,
   "id": "0342af91-2bf7-4154-9f89-55f428f6b2bf",
   "metadata": {},
   "outputs": [
    {
     "name": "stdin",
     "output_type": "stream",
     "text": [
      "Entrez une action (0 ou 1) :  1\n",
      "Entrez une action (0 ou 1) :  1\n",
      "Entrez une action (0 ou 1) :  1\n",
      "Entrez une action (0 ou 1) :  1\n",
      "Entrez une action (0 ou 1) :  0\n",
      "Entrez une action (0 ou 1) :  0\n",
      "Entrez une action (0 ou 1) :  0\n",
      "Entrez une action (0 ou 1) :  0\n",
      "Entrez une action (0 ou 1) :  0\n",
      "Entrez une action (0 ou 1) :  1\n",
      "Entrez une action (0 ou 1) :  1\n",
      "Entrez une action (0 ou 1) :  1\n",
      "Entrez une action (0 ou 1) :  0\n",
      "Entrez une action (0 ou 1) :  0\n",
      "Entrez une action (0 ou 1) :  0\n",
      "Entrez une action (0 ou 1) :  1\n",
      "Entrez une action (0 ou 1) :  1\n",
      "Entrez une action (0 ou 1) :  1\n"
     ]
    },
    {
     "name": "stdout",
     "output_type": "stream",
     "text": [
      "Durée de l'épisode : 18 étapes\n"
     ]
    }
   ],
   "source": [
    "env = gym.make(\"CartPole-v1\", render_mode=\"human\")\n",
    "bservation, info = env.reset()\n",
    "steps = 0\n",
    "done = False\n",
    "while not done:\n",
    "    action = int(input(\"Entrez une action (0 ou 1) : \"))\n",
    "    observation, reward, done, truncated, info = env.step(action)\n",
    "    steps += 1\n",
    "print(f\"Durée de l'épisode : {steps} étapes\")"
   ]
  },
  {
   "cell_type": "code",
   "execution_count": 18,
   "id": "6e5e2b10-1be7-4137-b032-27f9b4204a96",
   "metadata": {},
   "outputs": [
    {
     "name": "stdout",
     "output_type": "stream",
     "text": [
      "Épisode 1, Durée : 16 étapes\n",
      "Épisode 2, Durée : 28 étapes\n",
      "Épisode 3, Durée : 12 étapes\n",
      "Épisode 4, Durée : 27 étapes\n",
      "Épisode 5, Durée : 18 étapes\n",
      "Épisode 6, Durée : 17 étapes\n",
      "Épisode 7, Durée : 14 étapes\n",
      "Épisode 8, Durée : 20 étapes\n",
      "Épisode 9, Durée : 16 étapes\n",
      "Épisode 10, Durée : 18 étapes\n",
      "Durée moyenne des épisodes : 18.6 étapes\n"
     ]
    }
   ],
   "source": [
    "num_episodes = 10\n",
    "total_steps = 0\n",
    "\n",
    "for episode in range(num_episodes):\n",
    "    done = False\n",
    "    steps = 0\n",
    "    env.reset()\n",
    "    while not done:\n",
    "        action = env.action_space.sample()\n",
    "        observation, reward, done, _, _ = env.step(action)\n",
    "        steps += 1\n",
    "    total_steps += steps\n",
    "    print(f\"Épisode {episode + 1}, Durée : {steps} étapes\")\n",
    "\n",
    "average_steps = total_steps / num_episodes\n",
    "print(f\"Durée moyenne des épisodes : {average_steps} étapes\")"
   ]
  },
  {
   "cell_type": "code",
   "execution_count": null,
   "id": "5ae25b1e-00a5-4586-8940-dcba444f0cff",
   "metadata": {},
   "outputs": [],
   "source": []
  },
  {
   "cell_type": "code",
   "execution_count": null,
   "id": "95c8f901-c5f9-4d70-8f9c-2355ebcc9c61",
   "metadata": {},
   "outputs": [],
   "source": []
  }
 ],
 "metadata": {
  "kernelspec": {
   "display_name": "Python 3 (ipykernel)",
   "language": "python",
   "name": "python3"
  },
  "language_info": {
   "codemirror_mode": {
    "name": "ipython",
    "version": 3
   },
   "file_extension": ".py",
   "mimetype": "text/x-python",
   "name": "python",
   "nbconvert_exporter": "python",
   "pygments_lexer": "ipython3",
   "version": "3.9.13"
  }
 },
 "nbformat": 4,
 "nbformat_minor": 5
}
